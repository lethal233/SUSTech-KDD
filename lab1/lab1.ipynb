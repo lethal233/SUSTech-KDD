{
 "cells": [
  {
   "cell_type": "code",
   "execution_count": 1,
   "metadata": {
    "pycharm": {
     "name": "#%%\n"
    }
   },
   "outputs": [],
   "source": [
    "from urllib.request import urlopen\n",
    "from bs4 import BeautifulSoup\n",
    "from time import sleep\n",
    "from bs4.element import ResultSet"
   ]
  },
  {
   "cell_type": "code",
   "execution_count": null,
   "metadata": {},
   "outputs": [],
   "source": []
  },
  {
   "cell_type": "code",
   "execution_count": null,
   "metadata": {},
   "outputs": [],
   "source": [
    "def read_url(url: str, result_list: list):\n",
    "    html = urlopen(url)\n",
    "    soup: BeautifulSoup = BeautifulSoup(html, 'html.parser')\n",
    "    posts: ResultSet = soup.find_all(class_=\"post-item\")\n",
    "\n",
    "    for post in posts:\n",
    "        title: str = post.h2.a.text\n",
    "        date: str = post.find(class_=\"date\").a.text\n",
    "        author: str = post.find(class_=\"author\").a.text\n",
    "        result_list.append({\"title\": title, \"date\": date, \"author\": author})\n",
    "        next_url = soup.find(class_=\"next-posts-link\")\n",
    "        if next_url is not None:\n",
    "            sleep(1)\n",
    "            read_url(next_url.get(\"href\"), result_list)"
   ]
  },
  {
   "cell_type": "code",
   "execution_count": 2,
   "metadata": {},
   "outputs": [],
   "source": [
    "if __name__ == '__main__':\n",
    "    initial_url = \"https://blog.scrapinghub.com\"\n",
    "    result_list = []\n",
    "    read_url(initial_url, result_list)\n",
    "    print(result_list)\n",
    "    print(len(result_list))"
   ]
  }
 ],
 "metadata": {
  "kernelspec": {
   "display_name": "Python 3",
   "language": "python",
   "name": "python3"
  },
  "language_info": {
   "codemirror_mode": {
    "name": "ipython",
    "version": 3
   },
   "file_extension": ".py",
   "mimetype": "text/x-python",
   "name": "python",
   "nbconvert_exporter": "python",
   "pygments_lexer": "ipython3",
   "version": "3.8.5"
  }
 },
 "nbformat": 4,
 "nbformat_minor": 4
}
