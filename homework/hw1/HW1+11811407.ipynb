{
 "cells": [
  {
   "cell_type": "markdown",
   "metadata": {
    "collapsed": true,
    "pycharm": {
     "name": "#%% md\n"
    }
   },
   "source": [
    "# Homework 1"
   ]
  },
  {
   "cell_type": "code",
   "execution_count": null,
   "metadata": {
    "pycharm": {
     "name": "#%%\n"
    }
   },
   "outputs": [],
   "source": [
    "import pandas as pd\n",
    "import numpy as np\n",
    "import chardet"
   ]
  },
  {
   "cell_type": "code",
   "execution_count": null,
   "metadata": {
    "pycharm": {
     "name": "#%%\n"
    }
   },
   "outputs": [],
   "source": [
    "with open (\"./HW1data.csv\", 'rb') as f:\n",
    "    result = chardet.detect(f.read(100000))"
   ]
  },
  {
   "cell_type": "code",
   "execution_count": null,
   "metadata": {
    "pycharm": {
     "name": "#%%\n"
    }
   },
   "outputs": [],
   "source": [
    "hwdata = pd.read_csv(\"./HW1data.csv\",encoding=result['encoding'])\n",
    "hwdata.head()"
   ]
  },
  {
   "cell_type": "markdown",
   "metadata": {},
   "source": [
    "## 1)"
   ]
  },
  {
   "cell_type": "code",
   "execution_count": null,
   "metadata": {
    "pycharm": {
     "name": "#%%\n"
    }
   },
   "outputs": [],
   "source": [
    "row,column = hwdata.shape"
   ]
  },
  {
   "cell_type": "code",
   "execution_count": null,
   "metadata": {
    "pycharm": {
     "name": "#%%\n"
    }
   },
   "outputs": [],
   "source": [
    "for i in range (1,column):\n",
    "    print(hwdata.iloc[:,i].isna().value_counts())"
   ]
  },
  {
   "cell_type": "markdown",
   "metadata": {},
   "source": [
    "## 2)"
   ]
  },
  {
   "cell_type": "markdown",
   "metadata": {
    "pycharm": {
     "name": "#%% md\n"
    }
   },
   "source": [
    "### a)"
   ]
  },
  {
   "cell_type": "code",
   "execution_count": null,
   "metadata": {
    "pycharm": {
     "name": "#%%\n"
    }
   },
   "outputs": [],
   "source": [
    "subset = ['PatientId','Gender','Age','Neighbourhood']\n",
    "unique_info = hwdata[subset]\n",
    "unique_info"
   ]
  },
  {
   "cell_type": "code",
   "execution_count": null,
   "metadata": {
    "pycharm": {
     "name": "#%%\n"
    }
   },
   "outputs": [],
   "source": [
    "# delete the rows where patientid is none\n",
    "unique_info.dropna(subset=['PatientId'],inplace=True)\n",
    "unique_info"
   ]
  },
  {
   "cell_type": "code",
   "execution_count": null,
   "metadata": {
    "pycharm": {
     "name": "#%%\n"
    }
   },
   "outputs": [],
   "source": [
    "# unique_info.groupby('PatientId').min()\n",
    "# unique_info.sort_values(by='PatientId',inplace=True)\n",
    "patient = dict()\n",
    "for index,row in unique_info.iterrows():\n",
    "    if patient.__contains__(row['PatientId']):\n",
    "        if not row['Age'] is None:\n",
    "            patient[row['PatientId']]['Age'] = row['Age']\n",
    "        if not row['Gender'] is None:\n",
    "            patient[row['PatientId']]['Gender'] = row['Gender']\n",
    "        if not row['Neighbourhood'] is None:\n",
    "            patient[row['PatientId']]['Neighbourhood'] = row['Neighbourhood']\n",
    "    else:\n",
    "        patient[row['PatientId']] = {'Gender':row['Gender'],'Age': row['Age'],'Neighbourhood':row['Neighbourhood']}"
   ]
  },
  {
   "cell_type": "markdown",
   "metadata": {
    "pycharm": {
     "name": "#%% md\n"
    }
   },
   "source": [
    "### b)"
   ]
  },
  {
   "cell_type": "code",
   "execution_count": null,
   "metadata": {
    "pycharm": {
     "name": "#%%\n"
    }
   },
   "outputs": [],
   "source": [
    "sb = ['PatientId','ScheduledDay','AppointmentDay','SMS_received','No-show']\n",
    "hwdata_de = hwdata.dropna(subset=sb)\n",
    "hwdata_de"
   ]
  },
  {
   "cell_type": "markdown",
   "metadata": {
    "pycharm": {
     "name": "#%% md\n"
    }
   },
   "source": [
    "### c)"
   ]
  },
  {
   "cell_type": "code",
   "execution_count": null,
   "metadata": {
    "pycharm": {
     "name": "#%%\n"
    }
   },
   "outputs": [],
   "source": [
    "for index,row in hwdata_de.iterrows():\n",
    "    try:\n",
    "        if row['Gender'] is None:\n",
    "            row['Gender'] = patient[row['PatientId']]['Gender']\n",
    "        if row['Age'] is None:\n",
    "            row['Age'] = patient[row['PatientId']]['Age']\n",
    "        if row['Neighbourhood'] is None:\n",
    "            row['Neighbourhood'] = patient[row['PatientId']]['Neighbourhood']\n",
    "    except Exception:\n",
    "        pass\n",
    "hwdata_de"
   ]
  },
  {
   "cell_type": "markdown",
   "metadata": {},
   "source": [
    "## 3)"
   ]
  },
  {
   "cell_type": "code",
   "execution_count": null,
   "metadata": {
    "pycharm": {
     "name": "#%%\n"
    }
   },
   "outputs": [],
   "source": [
    "subsetb = ['PatientId','Gender','Age','Neighbourhood','ScheduledDay','AppointmentDay','SMS_received','No-show']\n",
    "hwdata_de.dropna(subset=subsetb,inplace=True)\n",
    "hwdata_de\n"
   ]
  },
  {
   "cell_type": "markdown",
   "metadata": {},
   "source": [
    "## 4)"
   ]
  },
  {
   "cell_type": "code",
   "execution_count": null,
   "metadata": {
    "pycharm": {
     "name": "#%%\n"
    }
   },
   "outputs": [],
   "source": [
    "sb4 = {'Scholarship':0,'Hipertension':0,'Diabetes':0,'Alcoholism':0,'Handcap':0}\n",
    "hwdata_de.fillna(value=sb4,inplace=True)\n"
   ]
  },
  {
   "cell_type": "markdown",
   "metadata": {},
   "source": [
    "## 5)"
   ]
  },
  {
   "cell_type": "code",
   "execution_count": null,
   "metadata": {
    "pycharm": {
     "name": "#%%\n"
    }
   },
   "outputs": [],
   "source": [
    "hwdata_dd = hwdata_de.drop('PatientId',axis=1)\n",
    "hwdata_dd.drop('AppointmentID',axis=1,inplace=True)\n",
    "hwdata_dd"
   ]
  },
  {
   "cell_type": "markdown",
   "metadata": {},
   "source": [
    "## 6)"
   ]
  },
  {
   "cell_type": "code",
   "execution_count": null,
   "metadata": {
    "pycharm": {
     "name": "#%%\n"
    }
   },
   "outputs": [],
   "source": [
    "hwdata_ddd = hwdata_dd.drop(hwdata_dd.loc[hwdata_dd['Age'] < 0].index,axis=0)\n",
    "\n",
    "hwdata_ddd"
   ]
  },
  {
   "cell_type": "markdown",
   "metadata": {},
   "source": [
    "## 7)"
   ]
  },
  {
   "cell_type": "code",
   "execution_count": null,
   "metadata": {
    "pycharm": {
     "name": "#%%\n"
    }
   },
   "outputs": [],
   "source": [
    "#hwdata_ddd['Delta_Day'] = (pd.to_datetime(hwdata_ddd['ScheduledDay'],infer_datetime_format=True,utc=True)-pd.to_datetime(hwdata_ddd['AppointmentDay'],infer_datetime_format=True,utc=True)).dt.days\n",
    "#hwdata_ddd\n",
    "hwdata_ddd.drop(hwdata_ddd.loc[pd.to_datetime(hwdata_ddd['ScheduledDay'],infer_datetime_format=True,utc=True)-pd.to_datetime(hwdata_ddd['AppointmentDay'],infer_datetime_format=True,utc=True) > pd.Timedelta('0 days 00:00:00')\n",
    "].index,axis=0,inplace=True)\n",
    "hwdata_ddd"
   ]
  },
  {
   "cell_type": "code",
   "execution_count": null,
   "metadata": {},
   "outputs": [],
   "source": [
    "#hwdata_ddd.drop(hwdata_ddd.loc[hwdata_ddd['Delta_Day'] > 0].index, axis=0,inplace=True)\n",
    "#hwdata_ddd\n",
    "\n",
    "hwdata_ddd['Delta_Day'] = (pd.to_datetime(hwdata_ddd['ScheduledDay'],infer_datetime_format=True,utc=True)-pd.to_datetime(hwdata_ddd['AppointmentDay'],infer_datetime_format=True,utc=True)).dt.days\n",
    "hwdata_ddd"
   ]
  },
  {
   "cell_type": "markdown",
   "metadata": {},
   "source": [
    "## 8)\n"
   ]
  },
  {
   "cell_type": "code",
   "execution_count": null,
   "metadata": {
    "pycharm": {
     "name": "#%%\n"
    }
   },
   "outputs": [],
   "source": [
    "hwdata_ddd['SDay_DOW'] = pd.to_datetime(hwdata_ddd['ScheduledDay'],infer_datetime_format=True,utc=True).dt.dayofweek\n",
    "hwdata_ddd['ADay_DOW'] = pd.to_datetime(hwdata_ddd['AppointmentDay'],infer_datetime_format=True,utc=True).dt.dayofweek\n",
    "hwdata_ddd"
   ]
  },
  {
   "cell_type": "markdown",
   "metadata": {},
   "source": [
    "## 9)"
   ]
  },
  {
   "cell_type": "code",
   "execution_count": null,
   "metadata": {
    "pycharm": {
     "name": "#%%"
    }
   },
   "outputs": [],
   "source": [
    "hwdata_ddd.drop(['ScheduledDay','AppointmentDay'],axis=1,inplace=True)\n",
    "hwdata_ddd"
   ]
  }
 ],
 "metadata": {
  "kernelspec": {
   "display_name": "Python 3",
   "language": "python",
   "name": "python3"
  },
  "language_info": {
   "codemirror_mode": {
    "name": "ipython",
    "version": 3
   },
   "file_extension": ".py",
   "mimetype": "text/x-python",
   "name": "python",
   "nbconvert_exporter": "python",
   "pygments_lexer": "ipython3",
   "version": "3.8.8"
  }
 },
 "nbformat": 4,
 "nbformat_minor": 1
}