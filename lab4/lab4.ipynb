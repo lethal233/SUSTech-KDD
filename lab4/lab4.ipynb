{
 "cells": [
  {
   "cell_type": "code",
   "execution_count": 21,
   "metadata": {
    "collapsed": true
   },
   "outputs": [],
   "source": [
    "import pandas as pd\n",
    "import numpy as np\n",
    "import matplotlib as mtl\n",
    "import seaborn as sb"
   ]
  },
  {
   "cell_type": "code",
   "execution_count": 2,
   "outputs": [
    {
     "name": "stdout",
     "output_type": "stream",
     "text": [
      "1.0\n"
     ]
    }
   ],
   "source": [
    "reviews = pd.read_csv(\"./Reviews.csv\")\n",
    "r_ex = reviews.drop_duplicates()\n",
    "print(len(reviews)/len(r_ex))"
   ],
   "metadata": {
    "collapsed": false,
    "pycharm": {
     "name": "#%%\n"
    }
   }
  },
  {
   "cell_type": "code",
   "execution_count": 4,
   "outputs": [
    {
     "data": {
      "text/plain": "       id     date time continent_code country_name country_code  \\\n357  1920  5/30/10  NaN            NaN    Guatemala           GT   \n\n    state/province  population             city/town  distance  ...  \\\n357         Sololá        1422  Santa Cruz La Laguna   6.00513  ...   \n\n                                   geolocation  hazard_type  landslide_type  \\\n357  (14.691800000000001, -91.116799999999998)    Landslide        Mudslide   \n\n    landslide_size           trigger               storm_name injuries  \\\n357         Medium  Tropical cyclone  Tropical Cyclone Agatha      NaN   \n\n    fatalities source_name                                        source_link  \n357       14.0  Mayan Trip  http://mayantrip.com/lake-atitlan-guatemala-ag...  \n\n[1 rows x 23 columns]",
      "text/html": "<div>\n<style scoped>\n    .dataframe tbody tr th:only-of-type {\n        vertical-align: middle;\n    }\n\n    .dataframe tbody tr th {\n        vertical-align: top;\n    }\n\n    .dataframe thead th {\n        text-align: right;\n    }\n</style>\n<table border=\"1\" class=\"dataframe\">\n  <thead>\n    <tr style=\"text-align: right;\">\n      <th></th>\n      <th>id</th>\n      <th>date</th>\n      <th>time</th>\n      <th>continent_code</th>\n      <th>country_name</th>\n      <th>country_code</th>\n      <th>state/province</th>\n      <th>population</th>\n      <th>city/town</th>\n      <th>distance</th>\n      <th>...</th>\n      <th>geolocation</th>\n      <th>hazard_type</th>\n      <th>landslide_type</th>\n      <th>landslide_size</th>\n      <th>trigger</th>\n      <th>storm_name</th>\n      <th>injuries</th>\n      <th>fatalities</th>\n      <th>source_name</th>\n      <th>source_link</th>\n    </tr>\n  </thead>\n  <tbody>\n    <tr>\n      <th>357</th>\n      <td>1920</td>\n      <td>5/30/10</td>\n      <td>NaN</td>\n      <td>NaN</td>\n      <td>Guatemala</td>\n      <td>GT</td>\n      <td>Sololá</td>\n      <td>1422</td>\n      <td>Santa Cruz La Laguna</td>\n      <td>6.00513</td>\n      <td>...</td>\n      <td>(14.691800000000001, -91.116799999999998)</td>\n      <td>Landslide</td>\n      <td>Mudslide</td>\n      <td>Medium</td>\n      <td>Tropical cyclone</td>\n      <td>Tropical Cyclone Agatha</td>\n      <td>NaN</td>\n      <td>14.0</td>\n      <td>Mayan Trip</td>\n      <td>http://mayantrip.com/lake-atitlan-guatemala-ag...</td>\n    </tr>\n  </tbody>\n</table>\n<p>1 rows × 23 columns</p>\n</div>"
     },
     "execution_count": 4,
     "metadata": {},
     "output_type": "execute_result"
    }
   ],
   "source": [
    "landslide = pd.read_csv(\"./landslide_catalog.csv\")\n",
    "landslide.sample()\n"
   ],
   "metadata": {
    "collapsed": false,
    "pycharm": {
     "name": "#%%\n"
    }
   }
  },
  {
   "cell_type": "code",
   "execution_count": 5,
   "outputs": [
    {
     "data": {
      "text/plain": "     Number            Name        Country  Region           Type  \\\n932  312053  Stepovak Bay 4  United States  Alaska  Stratovolcano   \n\n     Activity Evidence Last Known Eruption  Latitude  Longitude  \\\n932  Evidence Credible             Unknown    55.954   -159.954   \n\n     Elevation (Meters) Dominant Rock Type  \\\n932                1557            No Data   \n\n                                 Tectonic Setting  \n932  Subduction Zone / Continental Crust (>25 km)  ",
      "text/html": "<div>\n<style scoped>\n    .dataframe tbody tr th:only-of-type {\n        vertical-align: middle;\n    }\n\n    .dataframe tbody tr th {\n        vertical-align: top;\n    }\n\n    .dataframe thead th {\n        text-align: right;\n    }\n</style>\n<table border=\"1\" class=\"dataframe\">\n  <thead>\n    <tr style=\"text-align: right;\">\n      <th></th>\n      <th>Number</th>\n      <th>Name</th>\n      <th>Country</th>\n      <th>Region</th>\n      <th>Type</th>\n      <th>Activity Evidence</th>\n      <th>Last Known Eruption</th>\n      <th>Latitude</th>\n      <th>Longitude</th>\n      <th>Elevation (Meters)</th>\n      <th>Dominant Rock Type</th>\n      <th>Tectonic Setting</th>\n    </tr>\n  </thead>\n  <tbody>\n    <tr>\n      <th>932</th>\n      <td>312053</td>\n      <td>Stepovak Bay 4</td>\n      <td>United States</td>\n      <td>Alaska</td>\n      <td>Stratovolcano</td>\n      <td>Evidence Credible</td>\n      <td>Unknown</td>\n      <td>55.954</td>\n      <td>-159.954</td>\n      <td>1557</td>\n      <td>No Data</td>\n      <td>Subduction Zone / Continental Crust (&gt;25 km)</td>\n    </tr>\n  </tbody>\n</table>\n</div>"
     },
     "execution_count": 5,
     "metadata": {},
     "output_type": "execute_result"
    }
   ],
   "source": [
    "volcano = pd.read_csv(\"./volcano_database.csv\")\n",
    "volcano.sample()"
   ],
   "metadata": {
    "collapsed": false,
    "pycharm": {
     "name": "#%%\n"
    }
   }
  },
  {
   "cell_type": "code",
   "execution_count": 6,
   "outputs": [
    {
     "data": {
      "text/plain": "            Date      Time  Latitude  Longitude        Type  Depth  \\\n7291  11/23/1984  04:45:53    -7.993    102.255  Earthquake   33.0   \n\n      Depth Error  Depth Seismic Stations  Magnitude Magnitude Type  ...  \\\n7291          NaN                     NaN        6.4             MW  ...   \n\n      Magnitude Seismic Stations  Azimuthal Gap  Horizontal Distance  \\\n7291                         NaN            NaN                  NaN   \n\n      Horizontal Error  Root Mean Square          ID Source Location Source  \\\n7291               NaN               1.2  USP00029B1     US              US   \n\n     Magnitude Source    Status  \n7291               NC  Reviewed  \n\n[1 rows x 21 columns]",
      "text/html": "<div>\n<style scoped>\n    .dataframe tbody tr th:only-of-type {\n        vertical-align: middle;\n    }\n\n    .dataframe tbody tr th {\n        vertical-align: top;\n    }\n\n    .dataframe thead th {\n        text-align: right;\n    }\n</style>\n<table border=\"1\" class=\"dataframe\">\n  <thead>\n    <tr style=\"text-align: right;\">\n      <th></th>\n      <th>Date</th>\n      <th>Time</th>\n      <th>Latitude</th>\n      <th>Longitude</th>\n      <th>Type</th>\n      <th>Depth</th>\n      <th>Depth Error</th>\n      <th>Depth Seismic Stations</th>\n      <th>Magnitude</th>\n      <th>Magnitude Type</th>\n      <th>...</th>\n      <th>Magnitude Seismic Stations</th>\n      <th>Azimuthal Gap</th>\n      <th>Horizontal Distance</th>\n      <th>Horizontal Error</th>\n      <th>Root Mean Square</th>\n      <th>ID</th>\n      <th>Source</th>\n      <th>Location Source</th>\n      <th>Magnitude Source</th>\n      <th>Status</th>\n    </tr>\n  </thead>\n  <tbody>\n    <tr>\n      <th>7291</th>\n      <td>11/23/1984</td>\n      <td>04:45:53</td>\n      <td>-7.993</td>\n      <td>102.255</td>\n      <td>Earthquake</td>\n      <td>33.0</td>\n      <td>NaN</td>\n      <td>NaN</td>\n      <td>6.4</td>\n      <td>MW</td>\n      <td>...</td>\n      <td>NaN</td>\n      <td>NaN</td>\n      <td>NaN</td>\n      <td>NaN</td>\n      <td>1.2</td>\n      <td>USP00029B1</td>\n      <td>US</td>\n      <td>US</td>\n      <td>NC</td>\n      <td>Reviewed</td>\n    </tr>\n  </tbody>\n</table>\n<p>1 rows × 21 columns</p>\n</div>"
     },
     "execution_count": 6,
     "metadata": {},
     "output_type": "execute_result"
    }
   ],
   "source": [
    "earthquake = pd.read_csv(\"./earthquake_database.csv\")\n",
    "earthquake.sample()"
   ],
   "metadata": {
    "collapsed": false,
    "pycharm": {
     "name": "#%%\n"
    }
   }
  },
  {
   "cell_type": "code",
   "execution_count": 18,
   "outputs": [],
   "source": [
    "earthquake['Date_parsed'] = pd.to_datetime(earthquake['Date'],infer_datetime_format=True,utc=True)"
   ],
   "metadata": {
    "collapsed": false,
    "pycharm": {
     "name": "#%%\n"
    }
   }
  },
  {
   "cell_type": "code",
   "execution_count": 19,
   "outputs": [
    {
     "data": {
      "text/plain": "0       1965-01-02 00:00:00+00:00\n1       1965-01-04 00:00:00+00:00\n2       1965-01-05 00:00:00+00:00\n3       1965-01-08 00:00:00+00:00\n4       1965-01-09 00:00:00+00:00\n                   ...           \n23407   2016-12-28 00:00:00+00:00\n23408   2016-12-28 00:00:00+00:00\n23409   2016-12-28 00:00:00+00:00\n23410   2016-12-29 00:00:00+00:00\n23411   2016-12-30 00:00:00+00:00\nName: Date_parsed, Length: 23412, dtype: datetime64[ns, UTC]"
     },
     "execution_count": 19,
     "metadata": {},
     "output_type": "execute_result"
    }
   ],
   "source": [
    "# earthquake['Date_parsed'] = date_parsed\n",
    "earthquake['Date_parsed']"
   ],
   "metadata": {
    "collapsed": false,
    "pycharm": {
     "name": "#%%\n"
    }
   }
  },
  {
   "cell_type": "code",
   "execution_count": 22,
   "outputs": [
    {
     "name": "stderr",
     "output_type": "stream",
     "text": [
      "C:\\ProgramData\\Anaconda3\\envs\\qiskitdemo\\lib\\site-packages\\seaborn\\distributions.py:2557: FutureWarning: `distplot` is a deprecated function and will be removed in a future version. Please adapt your code to use either `displot` (a figure-level function with similar flexibility) or `histplot` (an axes-level function for histograms).\n",
      "  warnings.warn(msg, FutureWarning)\n"
     ]
    },
    {
     "data": {
      "text/plain": "<AxesSubplot:xlabel='Date_parsed'>"
     },
     "execution_count": 22,
     "metadata": {},
     "output_type": "execute_result"
    },
    {
     "data": {
      "text/plain": "<Figure size 432x288 with 1 Axes>",
      "image/png": "[encoded data removed]"
     },
     "metadata": {
      "needs_background": "light"
     },
     "output_type": "display_data"
    }
   ],
   "source": [
    "dy = earthquake['Date_parsed'].dt.day\n",
    "sb.distplot(dy,kde=False,bins=31)\n",
    "\n"
   ],
   "metadata": {
    "collapsed": false,
    "pycharm": {
     "name": "#%%\n"
    }
   }
  },
  {
   "cell_type": "markdown",
   "source": [
    "# Character Encoding"
   ],
   "metadata": {
    "collapsed": false
   }
  },
  {
   "cell_type": "code",
   "execution_count": 23,
   "outputs": [],
   "source": [
    "before = \"This is the yuan symbol: ￥\"\n",
    "after = before.encode(\"ascii\",errors=\"replace\")"
   ],
   "metadata": {
    "collapsed": false,
    "pycharm": {
     "name": "#%%\n"
    }
   }
  },
  {
   "cell_type": "code",
   "execution_count": 24,
   "outputs": [
    {
     "name": "stdout",
     "output_type": "stream",
     "text": [
      "This is the yuan symbol: ?\n"
     ]
    }
   ],
   "source": [
    "print(after.decode(\"ascii\"))"
   ],
   "metadata": {
    "collapsed": false,
    "pycharm": {
     "name": "#%%\n"
    }
   }
  },
  {
   "cell_type": "code",
   "execution_count": 25,
   "outputs": [],
   "source": [
    "import chardet"
   ],
   "metadata": {
    "collapsed": false,
    "pycharm": {
     "name": "#%%\n"
    }
   }
  },
  {
   "cell_type": "code",
   "execution_count": 29,
   "outputs": [
    {
     "name": "stdout",
     "output_type": "stream",
     "text": [
      "{'encoding': 'ISO-8859-1', 'confidence': 0.73, 'language': ''}\n"
     ]
    }
   ],
   "source": [
    "re = chardet.detect(bytearray(before,encoding='utf-8'))\n",
    "print(re)"
   ],
   "metadata": {
    "collapsed": false,
    "pycharm": {
     "name": "#%%\n"
    }
   }
  },
  {
   "cell_type": "code",
   "execution_count": 33,
   "outputs": [
    {
     "name": "stdout",
     "output_type": "stream",
     "text": [
      "{'encoding': 'Windows-1252', 'confidence': 0.73, 'language': ''}\n"
     ]
    }
   ],
   "source": [
    "with open (\"./ks-projects-201612.csv\",'rb') as f:\n",
    "    result = chardet.detect(f.read(10000))\n",
    "\n",
    "print(result)"
   ],
   "metadata": {
    "collapsed": false,
    "pycharm": {
     "name": "#%%\n"
    }
   }
  },
  {
   "cell_type": "code",
   "execution_count": 34,
   "outputs": [
    {
     "name": "stdout",
     "output_type": "stream",
     "text": [
      "{'encoding': 'ascii', 'confidence': 1.0, 'language': ''}\n"
     ]
    }
   ],
   "source": [
    "with open (\"././PoliceKillingsUS.csv\",'rb') as f:\n",
    "    result = chardet.detect(f.read(10000))\n",
    "\n",
    "print(result)"
   ],
   "metadata": {
    "collapsed": false,
    "pycharm": {
     "name": "#%%\n"
    }
   }
  },
  {
   "cell_type": "markdown",
   "source": [
    "# Duplication"
   ],
   "metadata": {
    "collapsed": false,
    "pycharm": {
     "name": "#%% md\n"
    }
   }
  },
  {
   "cell_type": "code",
   "execution_count": 38,
   "outputs": [
    {
     "name": "stdout",
     "output_type": "stream",
     "text": [
      "0.9926326492557005\n"
     ]
    }
   ],
   "source": [
    "reviews = pd.read_csv(\"./Reviews.csv\")\n",
    "r_sorted = reviews.sort_values(by='ProductId',ascending=True)\n",
    "r_sorted.drop_duplicates(subset=['ProductId','UserId','ProfileName','Time'],inplace=True)\n",
    "print(len(r_sorted)/len(reviews))"
   ],
   "metadata": {
    "collapsed": false,
    "pycharm": {
     "name": "#%%\n"
    }
   }
  }
 ],
 "metadata": {
  "kernelspec": {
   "display_name": "Python 3",
   "language": "python",
   "name": "python3"
  },
  "language_info": {
   "codemirror_mode": {
    "name": "ipython",
    "version": 3
   },
   "file_extension": ".py",
   "mimetype": "text/x-python",
   "name": "python",
   "nbconvert_exporter": "python",
   "pygments_lexer": "ipython3",
   "version": "3.8.8"
  }
 },
 "nbformat": 4,
 "nbformat_minor": 1
}