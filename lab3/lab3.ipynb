{
 "cells": [
  {
   "cell_type": "code",
   "execution_count": 1,
   "metadata": {
    "collapsed": true
   },
   "outputs": [],
   "source": [
    "import pandas as pd"
   ]
  },
  {
   "cell_type": "code",
   "execution_count": 7,
   "outputs": [],
   "source": [
    "a = pd.read_csv(\"melb_data.csv\")"
   ],
   "metadata": {
    "collapsed": false,
    "pycharm": {
     "name": "#%%\n"
    }
   }
  },
  {
   "cell_type": "code",
   "execution_count": 9,
   "outputs": [
    {
     "data": {
      "text/plain": "                  Suburb                Address  Rooms Type      Price Method  \\\n4843             Prahran  602/220 Commercial Rd      2    u   841000.0      S   \n3262  Heidelberg Heights        92A Southern Rd      2    h   510000.0     SP   \n7325            Oakleigh       94 Burlington St      3    h   880000.0     PI   \n827       Bentleigh East           7 Wallace St      3    h  1355000.0      S   \n415              Ashwood          1/7 Farmer St      2    t   700000.0      S   \n...                  ...                    ...    ...  ...        ...    ...   \n2126           Doncaster         47 Roseland Gr      5    h  1461800.0     SP   \n5949            Sunshine           34 Ernest St      4    h   890000.0      S   \n4851             Prahran          49 Clifton St      2    h   765000.0      S   \n2423            Essendon          79 Lincoln Rd      4    h  1726000.0      S   \n439     Avondale Heights             8 Norma Ct      3    h   850000.0      S   \n\n            SellerG        Date  Distance  Postcode  ...  Bathroom  Car  \\\n4843  hockingstuart  18/03/2017       4.5    3181.0  ...       2.0  1.0   \n3262          Barry  25/02/2017      10.5    3081.0  ...       1.0  2.0   \n7325          Barry   7/11/2016      14.0    3166.0  ...       1.0  1.0   \n827          Buxton   8/10/2016      13.9    3165.0  ...       1.0  2.0   \n415   hockingstuart   7/11/2016      12.2    3147.0  ...       1.0  2.0   \n...             ...         ...       ...       ...  ...       ...  ...   \n2126         Jellis   3/12/2016      13.9    3108.0  ...       2.0  2.0   \n5949        Sweeney  12/11/2016      12.6    3020.0  ...       1.0  2.0   \n4851         Beller  19/11/2016       4.5    3181.0  ...       1.0  0.0   \n2423         Nelson  18/03/2017       8.0    3040.0  ...       2.0  2.0   \n439          Moonee   3/09/2016      10.5    3034.0  ...       1.0  1.0   \n\n      Landsize  BuildingArea  YearBuilt    CouncilArea Lattitude  Longtitude  \\\n4843       0.0         101.0     1850.0    Stonnington  -37.8470    144.9936   \n3262     244.0           NaN        NaN        Banyule  -37.7421    145.0491   \n7325     670.0         118.0     1925.0         Monash  -37.9033    145.1006   \n827      818.0           NaN        NaN      Glen Eira  -37.9241    145.0539   \n415      367.0         110.0     1970.0         Monash  -37.8662    145.1090   \n...        ...           ...        ...            ...       ...         ...   \n2126     660.0           NaN        NaN     Manningham  -37.7791    145.1328   \n5949     668.0         127.0     1930.0       Brimbank  -37.7796    144.8450   \n4851      98.0           NaN     1890.0    Stonnington  -37.8501    144.9953   \n2423     705.0           NaN        NaN  Moonee Valley  -37.7497    144.9089   \n439      593.0         118.0     1970.0  Moonee Valley  -37.7677    144.8674   \n\n                 Regionname Propertycount  \n4843  Southern Metropolitan        7717.0  \n3262   Eastern Metropolitan        2947.0  \n7325  Southern Metropolitan        3224.0  \n827   Southern Metropolitan       10969.0  \n415   Southern Metropolitan        2894.0  \n...                     ...           ...  \n2126   Eastern Metropolitan        9028.0  \n5949   Western Metropolitan        3755.0  \n4851  Southern Metropolitan        7717.0  \n2423   Western Metropolitan        9264.0  \n439    Western Metropolitan        4502.0  \n\n[100 rows x 21 columns]",
      "text/html": "<div>\n<style scoped>\n    .dataframe tbody tr th:only-of-type {\n        vertical-align: middle;\n    }\n\n    .dataframe tbody tr th {\n        vertical-align: top;\n    }\n\n    .dataframe thead th {\n        text-align: right;\n    }\n</style>\n<table border=\"1\" class=\"dataframe\">\n  <thead>\n    <tr style=\"text-align: right;\">\n      <th></th>\n      <th>Suburb</th>\n      <th>Address</th>\n      <th>Rooms</th>\n      <th>Type</th>\n      <th>Price</th>\n      <th>Method</th>\n      <th>SellerG</th>\n      <th>Date</th>\n      <th>Distance</th>\n      <th>Postcode</th>\n      <th>...</th>\n      <th>Bathroom</th>\n      <th>Car</th>\n      <th>Landsize</th>\n      <th>BuildingArea</th>\n      <th>YearBuilt</th>\n      <th>CouncilArea</th>\n      <th>Lattitude</th>\n      <th>Longtitude</th>\n      <th>Regionname</th>\n      <th>Propertycount</th>\n    </tr>\n  </thead>\n  <tbody>\n    <tr>\n      <th>4843</th>\n      <td>Prahran</td>\n      <td>602/220 Commercial Rd</td>\n      <td>2</td>\n      <td>u</td>\n      <td>841000.0</td>\n      <td>S</td>\n      <td>hockingstuart</td>\n      <td>18/03/2017</td>\n      <td>4.5</td>\n      <td>3181.0</td>\n      <td>...</td>\n      <td>2.0</td>\n      <td>1.0</td>\n      <td>0.0</td>\n      <td>101.0</td>\n      <td>1850.0</td>\n      <td>Stonnington</td>\n      <td>-37.8470</td>\n      <td>144.9936</td>\n      <td>Southern Metropolitan</td>\n      <td>7717.0</td>\n    </tr>\n    <tr>\n      <th>3262</th>\n      <td>Heidelberg Heights</td>\n      <td>92A Southern Rd</td>\n      <td>2</td>\n      <td>h</td>\n      <td>510000.0</td>\n      <td>SP</td>\n      <td>Barry</td>\n      <td>25/02/2017</td>\n      <td>10.5</td>\n      <td>3081.0</td>\n      <td>...</td>\n      <td>1.0</td>\n      <td>2.0</td>\n      <td>244.0</td>\n      <td>NaN</td>\n      <td>NaN</td>\n      <td>Banyule</td>\n      <td>-37.7421</td>\n      <td>145.0491</td>\n      <td>Eastern Metropolitan</td>\n      <td>2947.0</td>\n    </tr>\n    <tr>\n      <th>7325</th>\n      <td>Oakleigh</td>\n      <td>94 Burlington St</td>\n      <td>3</td>\n      <td>h</td>\n      <td>880000.0</td>\n      <td>PI</td>\n      <td>Barry</td>\n      <td>7/11/2016</td>\n      <td>14.0</td>\n      <td>3166.0</td>\n      <td>...</td>\n      <td>1.0</td>\n      <td>1.0</td>\n      <td>670.0</td>\n      <td>118.0</td>\n      <td>1925.0</td>\n      <td>Monash</td>\n      <td>-37.9033</td>\n      <td>145.1006</td>\n      <td>Southern Metropolitan</td>\n      <td>3224.0</td>\n    </tr>\n    <tr>\n      <th>827</th>\n      <td>Bentleigh East</td>\n      <td>7 Wallace St</td>\n      <td>3</td>\n      <td>h</td>\n      <td>1355000.0</td>\n      <td>S</td>\n      <td>Buxton</td>\n      <td>8/10/2016</td>\n      <td>13.9</td>\n      <td>3165.0</td>\n      <td>...</td>\n      <td>1.0</td>\n      <td>2.0</td>\n      <td>818.0</td>\n      <td>NaN</td>\n      <td>NaN</td>\n      <td>Glen Eira</td>\n      <td>-37.9241</td>\n      <td>145.0539</td>\n      <td>Southern Metropolitan</td>\n      <td>10969.0</td>\n    </tr>\n    <tr>\n      <th>415</th>\n      <td>Ashwood</td>\n      <td>1/7 Farmer St</td>\n      <td>2</td>\n      <td>t</td>\n      <td>700000.0</td>\n      <td>S</td>\n      <td>hockingstuart</td>\n      <td>7/11/2016</td>\n      <td>12.2</td>\n      <td>3147.0</td>\n      <td>...</td>\n      <td>1.0</td>\n      <td>2.0</td>\n      <td>367.0</td>\n      <td>110.0</td>\n      <td>1970.0</td>\n      <td>Monash</td>\n      <td>-37.8662</td>\n      <td>145.1090</td>\n      <td>Southern Metropolitan</td>\n      <td>2894.0</td>\n    </tr>\n    <tr>\n      <th>...</th>\n      <td>...</td>\n      <td>...</td>\n      <td>...</td>\n      <td>...</td>\n      <td>...</td>\n      <td>...</td>\n      <td>...</td>\n      <td>...</td>\n      <td>...</td>\n      <td>...</td>\n      <td>...</td>\n      <td>...</td>\n      <td>...</td>\n      <td>...</td>\n      <td>...</td>\n      <td>...</td>\n      <td>...</td>\n      <td>...</td>\n      <td>...</td>\n      <td>...</td>\n      <td>...</td>\n    </tr>\n    <tr>\n      <th>2126</th>\n      <td>Doncaster</td>\n      <td>47 Roseland Gr</td>\n      <td>5</td>\n      <td>h</td>\n      <td>1461800.0</td>\n      <td>SP</td>\n      <td>Jellis</td>\n      <td>3/12/2016</td>\n      <td>13.9</td>\n      <td>3108.0</td>\n      <td>...</td>\n      <td>2.0</td>\n      <td>2.0</td>\n      <td>660.0</td>\n      <td>NaN</td>\n      <td>NaN</td>\n      <td>Manningham</td>\n      <td>-37.7791</td>\n      <td>145.1328</td>\n      <td>Eastern Metropolitan</td>\n      <td>9028.0</td>\n    </tr>\n    <tr>\n      <th>5949</th>\n      <td>Sunshine</td>\n      <td>34 Ernest St</td>\n      <td>4</td>\n      <td>h</td>\n      <td>890000.0</td>\n      <td>S</td>\n      <td>Sweeney</td>\n      <td>12/11/2016</td>\n      <td>12.6</td>\n      <td>3020.0</td>\n      <td>...</td>\n      <td>1.0</td>\n      <td>2.0</td>\n      <td>668.0</td>\n      <td>127.0</td>\n      <td>1930.0</td>\n      <td>Brimbank</td>\n      <td>-37.7796</td>\n      <td>144.8450</td>\n      <td>Western Metropolitan</td>\n      <td>3755.0</td>\n    </tr>\n    <tr>\n      <th>4851</th>\n      <td>Prahran</td>\n      <td>49 Clifton St</td>\n      <td>2</td>\n      <td>h</td>\n      <td>765000.0</td>\n      <td>S</td>\n      <td>Beller</td>\n      <td>19/11/2016</td>\n      <td>4.5</td>\n      <td>3181.0</td>\n      <td>...</td>\n      <td>1.0</td>\n      <td>0.0</td>\n      <td>98.0</td>\n      <td>NaN</td>\n      <td>1890.0</td>\n      <td>Stonnington</td>\n      <td>-37.8501</td>\n      <td>144.9953</td>\n      <td>Southern Metropolitan</td>\n      <td>7717.0</td>\n    </tr>\n    <tr>\n      <th>2423</th>\n      <td>Essendon</td>\n      <td>79 Lincoln Rd</td>\n      <td>4</td>\n      <td>h</td>\n      <td>1726000.0</td>\n      <td>S</td>\n      <td>Nelson</td>\n      <td>18/03/2017</td>\n      <td>8.0</td>\n      <td>3040.0</td>\n      <td>...</td>\n      <td>2.0</td>\n      <td>2.0</td>\n      <td>705.0</td>\n      <td>NaN</td>\n      <td>NaN</td>\n      <td>Moonee Valley</td>\n      <td>-37.7497</td>\n      <td>144.9089</td>\n      <td>Western Metropolitan</td>\n      <td>9264.0</td>\n    </tr>\n    <tr>\n      <th>439</th>\n      <td>Avondale Heights</td>\n      <td>8 Norma Ct</td>\n      <td>3</td>\n      <td>h</td>\n      <td>850000.0</td>\n      <td>S</td>\n      <td>Moonee</td>\n      <td>3/09/2016</td>\n      <td>10.5</td>\n      <td>3034.0</td>\n      <td>...</td>\n      <td>1.0</td>\n      <td>1.0</td>\n      <td>593.0</td>\n      <td>118.0</td>\n      <td>1970.0</td>\n      <td>Moonee Valley</td>\n      <td>-37.7677</td>\n      <td>144.8674</td>\n      <td>Western Metropolitan</td>\n      <td>4502.0</td>\n    </tr>\n  </tbody>\n</table>\n<p>100 rows × 21 columns</p>\n</div>"
     },
     "execution_count": 9,
     "metadata": {},
     "output_type": "execute_result"
    }
   ],
   "source": [
    "pd.DataFrame.sample(a,n=100)"
   ],
   "metadata": {
    "collapsed": false,
    "pycharm": {
     "name": "#%%\n"
    }
   }
  },
  {
   "cell_type": "code",
   "execution_count": 12,
   "outputs": [
    {
     "data": {
      "text/plain": "       Suburb  Address  Rooms   Type  Price  Method  SellerG   Date  Distance  \\\n10327   False    False  False  False  False   False    False  False     False   \n5073    False    False  False  False  False   False    False  False     False   \n4843    False    False  False  False  False   False    False  False     False   \n7569    False    False  False  False  False   False    False  False     False   \n10950   False    False  False  False  False   False    False  False     False   \n13325   False    False  False  False  False   False    False  False     False   \n9158    False    False  False  False  False   False    False  False     False   \n8388    False    False  False  False  False   False    False  False     False   \n2839    False    False  False  False  False   False    False  False     False   \n9790    False    False  False  False  False   False    False  False     False   \n\n       Postcode  ...  Bathroom    Car  Landsize  BuildingArea  YearBuilt  \\\n10327     False  ...     False  False     False         False      False   \n5073      False  ...     False  False     False          True      False   \n4843      False  ...     False  False     False         False      False   \n7569      False  ...     False  False     False         False      False   \n10950     False  ...     False  False     False          True       True   \n13325     False  ...     False  False     False          True       True   \n9158      False  ...     False  False     False          True       True   \n8388      False  ...     False  False     False          True      False   \n2839      False  ...     False  False     False          True       True   \n9790      False  ...     False  False     False         False       True   \n\n       CouncilArea  Lattitude  Longtitude  Regionname  Propertycount  \n10327        False      False       False       False          False  \n5073         False      False       False       False          False  \n4843         False      False       False       False          False  \n7569         False      False       False       False          False  \n10950        False      False       False       False          False  \n13325         True      False       False       False          False  \n9158         False      False       False       False          False  \n8388         False      False       False       False          False  \n2839         False      False       False       False          False  \n9790         False      False       False       False          False  \n\n[10 rows x 21 columns]",
      "text/html": "<div>\n<style scoped>\n    .dataframe tbody tr th:only-of-type {\n        vertical-align: middle;\n    }\n\n    .dataframe tbody tr th {\n        vertical-align: top;\n    }\n\n    .dataframe thead th {\n        text-align: right;\n    }\n</style>\n<table border=\"1\" class=\"dataframe\">\n  <thead>\n    <tr style=\"text-align: right;\">\n      <th></th>\n      <th>Suburb</th>\n      <th>Address</th>\n      <th>Rooms</th>\n      <th>Type</th>\n      <th>Price</th>\n      <th>Method</th>\n      <th>SellerG</th>\n      <th>Date</th>\n      <th>Distance</th>\n      <th>Postcode</th>\n      <th>...</th>\n      <th>Bathroom</th>\n      <th>Car</th>\n      <th>Landsize</th>\n      <th>BuildingArea</th>\n      <th>YearBuilt</th>\n      <th>CouncilArea</th>\n      <th>Lattitude</th>\n      <th>Longtitude</th>\n      <th>Regionname</th>\n      <th>Propertycount</th>\n    </tr>\n  </thead>\n  <tbody>\n    <tr>\n      <th>10327</th>\n      <td>False</td>\n      <td>False</td>\n      <td>False</td>\n      <td>False</td>\n      <td>False</td>\n      <td>False</td>\n      <td>False</td>\n      <td>False</td>\n      <td>False</td>\n      <td>False</td>\n      <td>...</td>\n      <td>False</td>\n      <td>False</td>\n      <td>False</td>\n      <td>False</td>\n      <td>False</td>\n      <td>False</td>\n      <td>False</td>\n      <td>False</td>\n      <td>False</td>\n      <td>False</td>\n    </tr>\n    <tr>\n      <th>5073</th>\n      <td>False</td>\n      <td>False</td>\n      <td>False</td>\n      <td>False</td>\n      <td>False</td>\n      <td>False</td>\n      <td>False</td>\n      <td>False</td>\n      <td>False</td>\n      <td>False</td>\n      <td>...</td>\n      <td>False</td>\n      <td>False</td>\n      <td>False</td>\n      <td>True</td>\n      <td>False</td>\n      <td>False</td>\n      <td>False</td>\n      <td>False</td>\n      <td>False</td>\n      <td>False</td>\n    </tr>\n    <tr>\n      <th>4843</th>\n      <td>False</td>\n      <td>False</td>\n      <td>False</td>\n      <td>False</td>\n      <td>False</td>\n      <td>False</td>\n      <td>False</td>\n      <td>False</td>\n      <td>False</td>\n      <td>False</td>\n      <td>...</td>\n      <td>False</td>\n      <td>False</td>\n      <td>False</td>\n      <td>False</td>\n      <td>False</td>\n      <td>False</td>\n      <td>False</td>\n      <td>False</td>\n      <td>False</td>\n      <td>False</td>\n    </tr>\n    <tr>\n      <th>7569</th>\n      <td>False</td>\n      <td>False</td>\n      <td>False</td>\n      <td>False</td>\n      <td>False</td>\n      <td>False</td>\n      <td>False</td>\n      <td>False</td>\n      <td>False</td>\n      <td>False</td>\n      <td>...</td>\n      <td>False</td>\n      <td>False</td>\n      <td>False</td>\n      <td>False</td>\n      <td>False</td>\n      <td>False</td>\n      <td>False</td>\n      <td>False</td>\n      <td>False</td>\n      <td>False</td>\n    </tr>\n    <tr>\n      <th>10950</th>\n      <td>False</td>\n      <td>False</td>\n      <td>False</td>\n      <td>False</td>\n      <td>False</td>\n      <td>False</td>\n      <td>False</td>\n      <td>False</td>\n      <td>False</td>\n      <td>False</td>\n      <td>...</td>\n      <td>False</td>\n      <td>False</td>\n      <td>False</td>\n      <td>True</td>\n      <td>True</td>\n      <td>False</td>\n      <td>False</td>\n      <td>False</td>\n      <td>False</td>\n      <td>False</td>\n    </tr>\n    <tr>\n      <th>13325</th>\n      <td>False</td>\n      <td>False</td>\n      <td>False</td>\n      <td>False</td>\n      <td>False</td>\n      <td>False</td>\n      <td>False</td>\n      <td>False</td>\n      <td>False</td>\n      <td>False</td>\n      <td>...</td>\n      <td>False</td>\n      <td>False</td>\n      <td>False</td>\n      <td>True</td>\n      <td>True</td>\n      <td>True</td>\n      <td>False</td>\n      <td>False</td>\n      <td>False</td>\n      <td>False</td>\n    </tr>\n    <tr>\n      <th>9158</th>\n      <td>False</td>\n      <td>False</td>\n      <td>False</td>\n      <td>False</td>\n      <td>False</td>\n      <td>False</td>\n      <td>False</td>\n      <td>False</td>\n      <td>False</td>\n      <td>False</td>\n      <td>...</td>\n      <td>False</td>\n      <td>False</td>\n      <td>False</td>\n      <td>True</td>\n      <td>True</td>\n      <td>False</td>\n      <td>False</td>\n      <td>False</td>\n      <td>False</td>\n      <td>False</td>\n    </tr>\n    <tr>\n      <th>8388</th>\n      <td>False</td>\n      <td>False</td>\n      <td>False</td>\n      <td>False</td>\n      <td>False</td>\n      <td>False</td>\n      <td>False</td>\n      <td>False</td>\n      <td>False</td>\n      <td>False</td>\n      <td>...</td>\n      <td>False</td>\n      <td>False</td>\n      <td>False</td>\n      <td>True</td>\n      <td>False</td>\n      <td>False</td>\n      <td>False</td>\n      <td>False</td>\n      <td>False</td>\n      <td>False</td>\n    </tr>\n    <tr>\n      <th>2839</th>\n      <td>False</td>\n      <td>False</td>\n      <td>False</td>\n      <td>False</td>\n      <td>False</td>\n      <td>False</td>\n      <td>False</td>\n      <td>False</td>\n      <td>False</td>\n      <td>False</td>\n      <td>...</td>\n      <td>False</td>\n      <td>False</td>\n      <td>False</td>\n      <td>True</td>\n      <td>True</td>\n      <td>False</td>\n      <td>False</td>\n      <td>False</td>\n      <td>False</td>\n      <td>False</td>\n    </tr>\n    <tr>\n      <th>9790</th>\n      <td>False</td>\n      <td>False</td>\n      <td>False</td>\n      <td>False</td>\n      <td>False</td>\n      <td>False</td>\n      <td>False</td>\n      <td>False</td>\n      <td>False</td>\n      <td>False</td>\n      <td>...</td>\n      <td>False</td>\n      <td>False</td>\n      <td>False</td>\n      <td>False</td>\n      <td>True</td>\n      <td>False</td>\n      <td>False</td>\n      <td>False</td>\n      <td>False</td>\n      <td>False</td>\n    </tr>\n  </tbody>\n</table>\n<p>10 rows × 21 columns</p>\n</div>"
     },
     "execution_count": 12,
     "metadata": {},
     "output_type": "execute_result"
    }
   ],
   "source": [
    "b = pd.DataFrame.sample(a,n=10)\n",
    "pd.DataFrame.isnull(b)"
   ],
   "metadata": {
    "collapsed": false,
    "pycharm": {
     "name": "#%%\n"
    }
   }
  },
  {
   "cell_type": "code",
   "execution_count": 17,
   "outputs": [
    {
     "data": {
      "text/plain": "Suburb                     South Yarra\nAddress               22/382 Toorak Rd\nRooms                                2\nType                                 u\nPrice                         601000.0\nMethod                               S\nSellerG                         Biggin\nDate                        10/12/2016\nDistance                           3.3\nPostcode                        3141.0\nBedroom2                           2.0\nBathroom                           1.0\nCar                                1.0\nLandsize                           0.0\nBuildingArea                       0.0\nYearBuilt                       1970.0\nCouncilArea                Stonnington\nLattitude                     -37.8406\nLongtitude                    145.0033\nRegionname       Southern Metropolitan\nPropertycount                  14887.0\ndtype: object"
     },
     "execution_count": 17,
     "metadata": {},
     "output_type": "execute_result"
    }
   ],
   "source": [
    "c = pd.DataFrame.sample(a,n=1)\n",
    "pd.DataFrame.sum(c)"
   ],
   "metadata": {
    "collapsed": false,
    "pycharm": {
     "name": "#%%\n"
    }
   }
  },
  {
   "cell_type": "code",
   "execution_count": 22,
   "outputs": [
    {
     "data": {
      "text/plain": "(13580, 21)"
     },
     "execution_count": 22,
     "metadata": {},
     "output_type": "execute_result"
    }
   ],
   "source": [
    "a.shape"
   ],
   "metadata": {
    "collapsed": false,
    "pycharm": {
     "name": "#%%\n"
    }
   }
  },
  {
   "cell_type": "code",
   "execution_count": 23,
   "outputs": [],
   "source": [
    "import numpy as np"
   ],
   "metadata": {
    "collapsed": false,
    "pycharm": {
     "name": "#%%\n"
    }
   }
  },
  {
   "cell_type": "code",
   "execution_count": 24,
   "outputs": [
    {
     "name": "stderr",
     "output_type": "stream",
     "text": [
      "C:\\ProgramData\\Anaconda3\\envs\\qiskitdemo\\lib\\site-packages\\numpy\\core\\_methods.py:51: RuntimeWarning: overflow encountered in reduce\n",
      "  return umr_prod(a, axis, dtype, out, keepdims, initial, where)\n"
     ]
    },
    {
     "data": {
      "text/plain": "Rooms            0.0\nPrice            inf\nDistance         NaN\nPostcode         inf\nBedroom2         0.0\nBathroom         0.0\nCar              0.0\nLandsize         0.0\nBuildingArea     NaN\nYearBuilt        inf\nLattitude        inf\nLongtitude       inf\nPropertycount    inf\ndtype: float64"
     },
     "execution_count": 24,
     "metadata": {},
     "output_type": "execute_result"
    }
   ],
   "source": [
    "np.product(a)"
   ],
   "metadata": {
    "collapsed": false,
    "pycharm": {
     "name": "#%%\n"
    }
   }
  },
  {
   "cell_type": "code",
   "execution_count": 26,
   "outputs": [
    {
     "data": {
      "text/plain": "             Suburb          Address  Rooms Type      Price Method  \\\n1        Abbotsford  25 Bloomburg St      2    h  1035000.0      S   \n2        Abbotsford     5 Charles St      3    h  1465000.0     SP   \n4        Abbotsford      55a Park St      4    h  1600000.0     VB   \n6        Abbotsford     124 Yarra St      3    h  1876000.0      S   \n7        Abbotsford    98 Charles St      2    h  1636000.0      S   \n...             ...              ...    ...  ...        ...    ...   \n12205    Whittlesea    30 Sherwin St      3    h   601000.0      S   \n12206  Williamstown      75 Cecil St      3    h  1050000.0     VB   \n12207  Williamstown    2/29 Dover Rd      1    u   385000.0     SP   \n12209       Windsor  201/152 Peel St      2    u   560000.0     PI   \n12212    Yarraville  54 Pentland Pde      6    h  2450000.0     VB   \n\n             SellerG        Date  Distance  Postcode  ...  Bathroom  Car  \\\n1             Biggin   4/02/2016       2.5    3067.0  ...       1.0  0.0   \n2             Biggin   4/03/2017       2.5    3067.0  ...       2.0  0.0   \n4             Nelson   4/06/2016       2.5    3067.0  ...       1.0  2.0   \n6             Nelson   7/05/2016       2.5    3067.0  ...       2.0  0.0   \n7             Nelson   8/10/2016       2.5    3067.0  ...       1.0  2.0   \n...              ...         ...       ...       ...  ...       ...  ...   \n12205            Ray  29/07/2017      35.5    3757.0  ...       2.0  1.0   \n12206       Williams  29/07/2017       6.8    3016.0  ...       1.0  0.0   \n12207       Williams  29/07/2017       6.8    3016.0  ...       1.0  1.0   \n12209  hockingstuart  29/07/2017       4.6    3181.0  ...       1.0  1.0   \n12212        Village  29/07/2017       6.3    3013.0  ...       3.0  2.0   \n\n       Landsize  BuildingArea  YearBuilt  CouncilArea Lattitude  Longtitude  \\\n1         156.0         79.00     1900.0        Yarra -37.80790   144.99340   \n2         134.0        150.00     1900.0        Yarra -37.80930   144.99440   \n4         120.0        142.00     2014.0        Yarra -37.80720   144.99410   \n6         245.0        210.00     1910.0        Yarra -37.80240   144.99930   \n7         256.0        107.00     1890.0        Yarra -37.80600   144.99540   \n...         ...           ...        ...          ...       ...         ...   \n12205     972.0        149.00     1996.0   Whittlesea -37.51232   145.13282   \n12206     179.0        115.00     1890.0  Hobsons Bay -37.86558   144.90474   \n12207       0.0         35.64     1967.0  Hobsons Bay -37.85588   144.89936   \n12209       0.0         61.60     2012.0  Stonnington -37.85581   144.99025   \n12212    1087.0        388.50     1920.0  Maribyrnong -37.81038   144.89389   \n\n                  Regionname Propertycount  \n1      Northern Metropolitan        4019.0  \n2      Northern Metropolitan        4019.0  \n4      Northern Metropolitan        4019.0  \n6      Northern Metropolitan        4019.0  \n7      Northern Metropolitan        4019.0  \n...                      ...           ...  \n12205      Northern Victoria        2170.0  \n12206   Western Metropolitan        6380.0  \n12207   Western Metropolitan        6380.0  \n12209  Southern Metropolitan        4380.0  \n12212   Western Metropolitan        6543.0  \n\n[6196 rows x 21 columns]",
      "text/html": "<div>\n<style scoped>\n    .dataframe tbody tr th:only-of-type {\n        vertical-align: middle;\n    }\n\n    .dataframe tbody tr th {\n        vertical-align: top;\n    }\n\n    .dataframe thead th {\n        text-align: right;\n    }\n</style>\n<table border=\"1\" class=\"dataframe\">\n  <thead>\n    <tr style=\"text-align: right;\">\n      <th></th>\n      <th>Suburb</th>\n      <th>Address</th>\n      <th>Rooms</th>\n      <th>Type</th>\n      <th>Price</th>\n      <th>Method</th>\n      <th>SellerG</th>\n      <th>Date</th>\n      <th>Distance</th>\n      <th>Postcode</th>\n      <th>...</th>\n      <th>Bathroom</th>\n      <th>Car</th>\n      <th>Landsize</th>\n      <th>BuildingArea</th>\n      <th>YearBuilt</th>\n      <th>CouncilArea</th>\n      <th>Lattitude</th>\n      <th>Longtitude</th>\n      <th>Regionname</th>\n      <th>Propertycount</th>\n    </tr>\n  </thead>\n  <tbody>\n    <tr>\n      <th>1</th>\n      <td>Abbotsford</td>\n      <td>25 Bloomburg St</td>\n      <td>2</td>\n      <td>h</td>\n      <td>1035000.0</td>\n      <td>S</td>\n      <td>Biggin</td>\n      <td>4/02/2016</td>\n      <td>2.5</td>\n      <td>3067.0</td>\n      <td>...</td>\n      <td>1.0</td>\n      <td>0.0</td>\n      <td>156.0</td>\n      <td>79.00</td>\n      <td>1900.0</td>\n      <td>Yarra</td>\n      <td>-37.80790</td>\n      <td>144.99340</td>\n      <td>Northern Metropolitan</td>\n      <td>4019.0</td>\n    </tr>\n    <tr>\n      <th>2</th>\n      <td>Abbotsford</td>\n      <td>5 Charles St</td>\n      <td>3</td>\n      <td>h</td>\n      <td>1465000.0</td>\n      <td>SP</td>\n      <td>Biggin</td>\n      <td>4/03/2017</td>\n      <td>2.5</td>\n      <td>3067.0</td>\n      <td>...</td>\n      <td>2.0</td>\n      <td>0.0</td>\n      <td>134.0</td>\n      <td>150.00</td>\n      <td>1900.0</td>\n      <td>Yarra</td>\n      <td>-37.80930</td>\n      <td>144.99440</td>\n      <td>Northern Metropolitan</td>\n      <td>4019.0</td>\n    </tr>\n    <tr>\n      <th>4</th>\n      <td>Abbotsford</td>\n      <td>55a Park St</td>\n      <td>4</td>\n      <td>h</td>\n      <td>1600000.0</td>\n      <td>VB</td>\n      <td>Nelson</td>\n      <td>4/06/2016</td>\n      <td>2.5</td>\n      <td>3067.0</td>\n      <td>...</td>\n      <td>1.0</td>\n      <td>2.0</td>\n      <td>120.0</td>\n      <td>142.00</td>\n      <td>2014.0</td>\n      <td>Yarra</td>\n      <td>-37.80720</td>\n      <td>144.99410</td>\n      <td>Northern Metropolitan</td>\n      <td>4019.0</td>\n    </tr>\n    <tr>\n      <th>6</th>\n      <td>Abbotsford</td>\n      <td>124 Yarra St</td>\n      <td>3</td>\n      <td>h</td>\n      <td>1876000.0</td>\n      <td>S</td>\n      <td>Nelson</td>\n      <td>7/05/2016</td>\n      <td>2.5</td>\n      <td>3067.0</td>\n      <td>...</td>\n      <td>2.0</td>\n      <td>0.0</td>\n      <td>245.0</td>\n      <td>210.00</td>\n      <td>1910.0</td>\n      <td>Yarra</td>\n      <td>-37.80240</td>\n      <td>144.99930</td>\n      <td>Northern Metropolitan</td>\n      <td>4019.0</td>\n    </tr>\n    <tr>\n      <th>7</th>\n      <td>Abbotsford</td>\n      <td>98 Charles St</td>\n      <td>2</td>\n      <td>h</td>\n      <td>1636000.0</td>\n      <td>S</td>\n      <td>Nelson</td>\n      <td>8/10/2016</td>\n      <td>2.5</td>\n      <td>3067.0</td>\n      <td>...</td>\n      <td>1.0</td>\n      <td>2.0</td>\n      <td>256.0</td>\n      <td>107.00</td>\n      <td>1890.0</td>\n      <td>Yarra</td>\n      <td>-37.80600</td>\n      <td>144.99540</td>\n      <td>Northern Metropolitan</td>\n      <td>4019.0</td>\n    </tr>\n    <tr>\n      <th>...</th>\n      <td>...</td>\n      <td>...</td>\n      <td>...</td>\n      <td>...</td>\n      <td>...</td>\n      <td>...</td>\n      <td>...</td>\n      <td>...</td>\n      <td>...</td>\n      <td>...</td>\n      <td>...</td>\n      <td>...</td>\n      <td>...</td>\n      <td>...</td>\n      <td>...</td>\n      <td>...</td>\n      <td>...</td>\n      <td>...</td>\n      <td>...</td>\n      <td>...</td>\n      <td>...</td>\n    </tr>\n    <tr>\n      <th>12205</th>\n      <td>Whittlesea</td>\n      <td>30 Sherwin St</td>\n      <td>3</td>\n      <td>h</td>\n      <td>601000.0</td>\n      <td>S</td>\n      <td>Ray</td>\n      <td>29/07/2017</td>\n      <td>35.5</td>\n      <td>3757.0</td>\n      <td>...</td>\n      <td>2.0</td>\n      <td>1.0</td>\n      <td>972.0</td>\n      <td>149.00</td>\n      <td>1996.0</td>\n      <td>Whittlesea</td>\n      <td>-37.51232</td>\n      <td>145.13282</td>\n      <td>Northern Victoria</td>\n      <td>2170.0</td>\n    </tr>\n    <tr>\n      <th>12206</th>\n      <td>Williamstown</td>\n      <td>75 Cecil St</td>\n      <td>3</td>\n      <td>h</td>\n      <td>1050000.0</td>\n      <td>VB</td>\n      <td>Williams</td>\n      <td>29/07/2017</td>\n      <td>6.8</td>\n      <td>3016.0</td>\n      <td>...</td>\n      <td>1.0</td>\n      <td>0.0</td>\n      <td>179.0</td>\n      <td>115.00</td>\n      <td>1890.0</td>\n      <td>Hobsons Bay</td>\n      <td>-37.86558</td>\n      <td>144.90474</td>\n      <td>Western Metropolitan</td>\n      <td>6380.0</td>\n    </tr>\n    <tr>\n      <th>12207</th>\n      <td>Williamstown</td>\n      <td>2/29 Dover Rd</td>\n      <td>1</td>\n      <td>u</td>\n      <td>385000.0</td>\n      <td>SP</td>\n      <td>Williams</td>\n      <td>29/07/2017</td>\n      <td>6.8</td>\n      <td>3016.0</td>\n      <td>...</td>\n      <td>1.0</td>\n      <td>1.0</td>\n      <td>0.0</td>\n      <td>35.64</td>\n      <td>1967.0</td>\n      <td>Hobsons Bay</td>\n      <td>-37.85588</td>\n      <td>144.89936</td>\n      <td>Western Metropolitan</td>\n      <td>6380.0</td>\n    </tr>\n    <tr>\n      <th>12209</th>\n      <td>Windsor</td>\n      <td>201/152 Peel St</td>\n      <td>2</td>\n      <td>u</td>\n      <td>560000.0</td>\n      <td>PI</td>\n      <td>hockingstuart</td>\n      <td>29/07/2017</td>\n      <td>4.6</td>\n      <td>3181.0</td>\n      <td>...</td>\n      <td>1.0</td>\n      <td>1.0</td>\n      <td>0.0</td>\n      <td>61.60</td>\n      <td>2012.0</td>\n      <td>Stonnington</td>\n      <td>-37.85581</td>\n      <td>144.99025</td>\n      <td>Southern Metropolitan</td>\n      <td>4380.0</td>\n    </tr>\n    <tr>\n      <th>12212</th>\n      <td>Yarraville</td>\n      <td>54 Pentland Pde</td>\n      <td>6</td>\n      <td>h</td>\n      <td>2450000.0</td>\n      <td>VB</td>\n      <td>Village</td>\n      <td>29/07/2017</td>\n      <td>6.3</td>\n      <td>3013.0</td>\n      <td>...</td>\n      <td>3.0</td>\n      <td>2.0</td>\n      <td>1087.0</td>\n      <td>388.50</td>\n      <td>1920.0</td>\n      <td>Maribyrnong</td>\n      <td>-37.81038</td>\n      <td>144.89389</td>\n      <td>Western Metropolitan</td>\n      <td>6543.0</td>\n    </tr>\n  </tbody>\n</table>\n<p>6196 rows × 21 columns</p>\n</div>"
     },
     "execution_count": 26,
     "metadata": {},
     "output_type": "execute_result"
    }
   ],
   "source": [
    "pd.DataFrame.dropna(a)\n",
    "# 如果一行中有一个空的就删掉全部"
   ],
   "metadata": {
    "collapsed": false,
    "pycharm": {
     "name": "#%%\n"
    }
   }
  },
  {
   "cell_type": "code",
   "execution_count": 28,
   "outputs": [
    {
     "data": {
      "text/plain": "              Suburb           Address  Rooms Type      Price Method  \\\n0         Abbotsford      85 Turner St      2    h  1480000.0      S   \n1         Abbotsford   25 Bloomburg St      2    h  1035000.0      S   \n2         Abbotsford      5 Charles St      3    h  1465000.0     SP   \n3         Abbotsford  40 Federation La      3    h   850000.0     PI   \n4         Abbotsford       55a Park St      4    h  1600000.0     VB   \n...              ...               ...    ...  ...        ...    ...   \n13575  Wheelers Hill      12 Strada Cr      4    h  1245000.0      S   \n13576   Williamstown     77 Merrett Dr      3    h  1031000.0     SP   \n13577   Williamstown       83 Power St      3    h  1170000.0      S   \n13578   Williamstown      96 Verdon St      4    h  2500000.0     PI   \n13579     Yarraville        6 Agnes St      4    h  1285000.0     SP   \n\n        SellerG        Date  Distance  Postcode  ...  Bathroom  Car  Landsize  \\\n0        Biggin   3/12/2016       2.5    3067.0  ...       1.0  1.0     202.0   \n1        Biggin   4/02/2016       2.5    3067.0  ...       1.0  0.0     156.0   \n2        Biggin   4/03/2017       2.5    3067.0  ...       2.0  0.0     134.0   \n3        Biggin   4/03/2017       2.5    3067.0  ...       2.0  1.0      94.0   \n4        Nelson   4/06/2016       2.5    3067.0  ...       1.0  2.0     120.0   \n...         ...         ...       ...       ...  ...       ...  ...       ...   \n13575     Barry  26/08/2017      16.7    3150.0  ...       2.0  2.0     652.0   \n13576  Williams  26/08/2017       6.8    3016.0  ...       2.0  2.0     333.0   \n13577     Raine  26/08/2017       6.8    3016.0  ...       2.0  4.0     436.0   \n13578   Sweeney  26/08/2017       6.8    3016.0  ...       1.0  5.0     866.0   \n13579   Village  26/08/2017       6.3    3013.0  ...       1.0  1.0     362.0   \n\n       BuildingArea  YearBuilt  CouncilArea Lattitude  Longtitude  \\\n0               0.0        0.0        Yarra -37.79960   144.99840   \n1              79.0     1900.0        Yarra -37.80790   144.99340   \n2             150.0     1900.0        Yarra -37.80930   144.99440   \n3               0.0        0.0        Yarra -37.79690   144.99690   \n4             142.0     2014.0        Yarra -37.80720   144.99410   \n...             ...        ...          ...       ...         ...   \n13575           0.0     1981.0            0 -37.90562   145.16761   \n13576         133.0     1995.0            0 -37.85927   144.87904   \n13577           0.0     1997.0            0 -37.85274   144.88738   \n13578         157.0     1920.0            0 -37.85908   144.89299   \n13579         112.0     1920.0            0 -37.81188   144.88449   \n\n                       Regionname Propertycount  \n0           Northern Metropolitan        4019.0  \n1           Northern Metropolitan        4019.0  \n2           Northern Metropolitan        4019.0  \n3           Northern Metropolitan        4019.0  \n4           Northern Metropolitan        4019.0  \n...                           ...           ...  \n13575  South-Eastern Metropolitan        7392.0  \n13576        Western Metropolitan        6380.0  \n13577        Western Metropolitan        6380.0  \n13578        Western Metropolitan        6380.0  \n13579        Western Metropolitan        6543.0  \n\n[13580 rows x 21 columns]",
      "text/html": "<div>\n<style scoped>\n    .dataframe tbody tr th:only-of-type {\n        vertical-align: middle;\n    }\n\n    .dataframe tbody tr th {\n        vertical-align: top;\n    }\n\n    .dataframe thead th {\n        text-align: right;\n    }\n</style>\n<table border=\"1\" class=\"dataframe\">\n  <thead>\n    <tr style=\"text-align: right;\">\n      <th></th>\n      <th>Suburb</th>\n      <th>Address</th>\n      <th>Rooms</th>\n      <th>Type</th>\n      <th>Price</th>\n      <th>Method</th>\n      <th>SellerG</th>\n      <th>Date</th>\n      <th>Distance</th>\n      <th>Postcode</th>\n      <th>...</th>\n      <th>Bathroom</th>\n      <th>Car</th>\n      <th>Landsize</th>\n      <th>BuildingArea</th>\n      <th>YearBuilt</th>\n      <th>CouncilArea</th>\n      <th>Lattitude</th>\n      <th>Longtitude</th>\n      <th>Regionname</th>\n      <th>Propertycount</th>\n    </tr>\n  </thead>\n  <tbody>\n    <tr>\n      <th>0</th>\n      <td>Abbotsford</td>\n      <td>85 Turner St</td>\n      <td>2</td>\n      <td>h</td>\n      <td>1480000.0</td>\n      <td>S</td>\n      <td>Biggin</td>\n      <td>3/12/2016</td>\n      <td>2.5</td>\n      <td>3067.0</td>\n      <td>...</td>\n      <td>1.0</td>\n      <td>1.0</td>\n      <td>202.0</td>\n      <td>0.0</td>\n      <td>0.0</td>\n      <td>Yarra</td>\n      <td>-37.79960</td>\n      <td>144.99840</td>\n      <td>Northern Metropolitan</td>\n      <td>4019.0</td>\n    </tr>\n    <tr>\n      <th>1</th>\n      <td>Abbotsford</td>\n      <td>25 Bloomburg St</td>\n      <td>2</td>\n      <td>h</td>\n      <td>1035000.0</td>\n      <td>S</td>\n      <td>Biggin</td>\n      <td>4/02/2016</td>\n      <td>2.5</td>\n      <td>3067.0</td>\n      <td>...</td>\n      <td>1.0</td>\n      <td>0.0</td>\n      <td>156.0</td>\n      <td>79.0</td>\n      <td>1900.0</td>\n      <td>Yarra</td>\n      <td>-37.80790</td>\n      <td>144.99340</td>\n      <td>Northern Metropolitan</td>\n      <td>4019.0</td>\n    </tr>\n    <tr>\n      <th>2</th>\n      <td>Abbotsford</td>\n      <td>5 Charles St</td>\n      <td>3</td>\n      <td>h</td>\n      <td>1465000.0</td>\n      <td>SP</td>\n      <td>Biggin</td>\n      <td>4/03/2017</td>\n      <td>2.5</td>\n      <td>3067.0</td>\n      <td>...</td>\n      <td>2.0</td>\n      <td>0.0</td>\n      <td>134.0</td>\n      <td>150.0</td>\n      <td>1900.0</td>\n      <td>Yarra</td>\n      <td>-37.80930</td>\n      <td>144.99440</td>\n      <td>Northern Metropolitan</td>\n      <td>4019.0</td>\n    </tr>\n    <tr>\n      <th>3</th>\n      <td>Abbotsford</td>\n      <td>40 Federation La</td>\n      <td>3</td>\n      <td>h</td>\n      <td>850000.0</td>\n      <td>PI</td>\n      <td>Biggin</td>\n      <td>4/03/2017</td>\n      <td>2.5</td>\n      <td>3067.0</td>\n      <td>...</td>\n      <td>2.0</td>\n      <td>1.0</td>\n      <td>94.0</td>\n      <td>0.0</td>\n      <td>0.0</td>\n      <td>Yarra</td>\n      <td>-37.79690</td>\n      <td>144.99690</td>\n      <td>Northern Metropolitan</td>\n      <td>4019.0</td>\n    </tr>\n    <tr>\n      <th>4</th>\n      <td>Abbotsford</td>\n      <td>55a Park St</td>\n      <td>4</td>\n      <td>h</td>\n      <td>1600000.0</td>\n      <td>VB</td>\n      <td>Nelson</td>\n      <td>4/06/2016</td>\n      <td>2.5</td>\n      <td>3067.0</td>\n      <td>...</td>\n      <td>1.0</td>\n      <td>2.0</td>\n      <td>120.0</td>\n      <td>142.0</td>\n      <td>2014.0</td>\n      <td>Yarra</td>\n      <td>-37.80720</td>\n      <td>144.99410</td>\n      <td>Northern Metropolitan</td>\n      <td>4019.0</td>\n    </tr>\n    <tr>\n      <th>...</th>\n      <td>...</td>\n      <td>...</td>\n      <td>...</td>\n      <td>...</td>\n      <td>...</td>\n      <td>...</td>\n      <td>...</td>\n      <td>...</td>\n      <td>...</td>\n      <td>...</td>\n      <td>...</td>\n      <td>...</td>\n      <td>...</td>\n      <td>...</td>\n      <td>...</td>\n      <td>...</td>\n      <td>...</td>\n      <td>...</td>\n      <td>...</td>\n      <td>...</td>\n      <td>...</td>\n    </tr>\n    <tr>\n      <th>13575</th>\n      <td>Wheelers Hill</td>\n      <td>12 Strada Cr</td>\n      <td>4</td>\n      <td>h</td>\n      <td>1245000.0</td>\n      <td>S</td>\n      <td>Barry</td>\n      <td>26/08/2017</td>\n      <td>16.7</td>\n      <td>3150.0</td>\n      <td>...</td>\n      <td>2.0</td>\n      <td>2.0</td>\n      <td>652.0</td>\n      <td>0.0</td>\n      <td>1981.0</td>\n      <td>0</td>\n      <td>-37.90562</td>\n      <td>145.16761</td>\n      <td>South-Eastern Metropolitan</td>\n      <td>7392.0</td>\n    </tr>\n    <tr>\n      <th>13576</th>\n      <td>Williamstown</td>\n      <td>77 Merrett Dr</td>\n      <td>3</td>\n      <td>h</td>\n      <td>1031000.0</td>\n      <td>SP</td>\n      <td>Williams</td>\n      <td>26/08/2017</td>\n      <td>6.8</td>\n      <td>3016.0</td>\n      <td>...</td>\n      <td>2.0</td>\n      <td>2.0</td>\n      <td>333.0</td>\n      <td>133.0</td>\n      <td>1995.0</td>\n      <td>0</td>\n      <td>-37.85927</td>\n      <td>144.87904</td>\n      <td>Western Metropolitan</td>\n      <td>6380.0</td>\n    </tr>\n    <tr>\n      <th>13577</th>\n      <td>Williamstown</td>\n      <td>83 Power St</td>\n      <td>3</td>\n      <td>h</td>\n      <td>1170000.0</td>\n      <td>S</td>\n      <td>Raine</td>\n      <td>26/08/2017</td>\n      <td>6.8</td>\n      <td>3016.0</td>\n      <td>...</td>\n      <td>2.0</td>\n      <td>4.0</td>\n      <td>436.0</td>\n      <td>0.0</td>\n      <td>1997.0</td>\n      <td>0</td>\n      <td>-37.85274</td>\n      <td>144.88738</td>\n      <td>Western Metropolitan</td>\n      <td>6380.0</td>\n    </tr>\n    <tr>\n      <th>13578</th>\n      <td>Williamstown</td>\n      <td>96 Verdon St</td>\n      <td>4</td>\n      <td>h</td>\n      <td>2500000.0</td>\n      <td>PI</td>\n      <td>Sweeney</td>\n      <td>26/08/2017</td>\n      <td>6.8</td>\n      <td>3016.0</td>\n      <td>...</td>\n      <td>1.0</td>\n      <td>5.0</td>\n      <td>866.0</td>\n      <td>157.0</td>\n      <td>1920.0</td>\n      <td>0</td>\n      <td>-37.85908</td>\n      <td>144.89299</td>\n      <td>Western Metropolitan</td>\n      <td>6380.0</td>\n    </tr>\n    <tr>\n      <th>13579</th>\n      <td>Yarraville</td>\n      <td>6 Agnes St</td>\n      <td>4</td>\n      <td>h</td>\n      <td>1285000.0</td>\n      <td>SP</td>\n      <td>Village</td>\n      <td>26/08/2017</td>\n      <td>6.3</td>\n      <td>3013.0</td>\n      <td>...</td>\n      <td>1.0</td>\n      <td>1.0</td>\n      <td>362.0</td>\n      <td>112.0</td>\n      <td>1920.0</td>\n      <td>0</td>\n      <td>-37.81188</td>\n      <td>144.88449</td>\n      <td>Western Metropolitan</td>\n      <td>6543.0</td>\n    </tr>\n  </tbody>\n</table>\n<p>13580 rows × 21 columns</p>\n</div>"
     },
     "execution_count": 28,
     "metadata": {},
     "output_type": "execute_result"
    }
   ],
   "source": [
    "pd.DataFrame.fillna(a,value=0)\n",
    "# method = ffill/bfill"
   ],
   "metadata": {
    "collapsed": false,
    "pycharm": {
     "name": "#%%\n"
    }
   }
  },
  {
   "cell_type": "code",
   "execution_count": 31,
   "outputs": [
    {
     "data": {
      "text/plain": "Rooms            2.937997e+00\nPrice            1.075684e+06\nDistance         1.013778e+01\nPostcode         3.105302e+03\nBedroom2         2.914728e+00\nBathroom         1.534242e+00\nCar              1.610075e+00\nLandsize         5.584161e+02\nBuildingArea     1.519676e+02\nYearBuilt        1.964684e+03\nLattitude       -3.780920e+01\nLongtitude       1.449952e+02\nPropertycount    7.454417e+03\ndtype: float64"
     },
     "execution_count": 31,
     "metadata": {},
     "output_type": "execute_result"
    }
   ],
   "source": [
    "pd.DataFrame.mean(a)"
   ],
   "metadata": {
    "collapsed": false,
    "pycharm": {
     "name": "#%%\n"
    }
   }
  }
 ],
 "metadata": {
  "kernelspec": {
   "display_name": "Python 3",
   "language": "python",
   "name": "python3"
  },
  "language_info": {
   "codemirror_mode": {
    "name": "ipython",
    "version": 2
   },
   "file_extension": ".py",
   "mimetype": "text/x-python",
   "name": "python",
   "nbconvert_exporter": "python",
   "pygments_lexer": "ipython2",
   "version": "2.7.6"
  }
 },
 "nbformat": 4,
 "nbformat_minor": 0
}